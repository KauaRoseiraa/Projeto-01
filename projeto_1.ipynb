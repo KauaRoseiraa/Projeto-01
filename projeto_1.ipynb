{
  "nbformat": 4,
  "nbformat_minor": 0,
  "metadata": {
    "colab": {
      "provenance": [],
      "authorship_tag": "ABX9TyMVefTjxlXVH3ZdE7HLr4Sm",
      "include_colab_link": true
    },
    "kernelspec": {
      "name": "python3",
      "display_name": "Python 3"
    },
    "language_info": {
      "name": "python"
    }
  },
  "cells": [
    {
      "cell_type": "markdown",
      "metadata": {
        "id": "view-in-github",
        "colab_type": "text"
      },
      "source": [
        "<a href=\"https://colab.research.google.com/github/KauaRoseiraa/Projeto-01/blob/main/projeto_1.ipynb\" target=\"_parent\"><img src=\"https://colab.research.google.com/assets/colab-badge.svg\" alt=\"Open In Colab\"/></a>"
      ]
    },
    {
      "cell_type": "code",
      "execution_count": null,
      "metadata": {
        "id": "4vZWcEnNZ7UT"
      },
      "outputs": [],
      "source": [
        "# === Projeto Comum: Contador de Palavras ===\n",
        "# Conta quantas palavras o usuário digitou\n",
        "\n",
        "texto = input(\"Digite uma frase: \")\n",
        "palavras = texto.split()  # divide o texto em palavras\n",
        "quantidade = len(palavras)  # conta quantas palavras existem\n",
        "\n",
        "print(f\"A frase digitada tem {quantidade} palavras.\")\n"
      ]
    }
  ]
}