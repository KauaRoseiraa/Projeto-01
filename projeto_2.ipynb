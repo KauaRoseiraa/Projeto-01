{
  "nbformat": 4,
  "nbformat_minor": 0,
  "metadata": {
    "colab": {
      "provenance": [],
      "authorship_tag": "ABX9TyOc4EiBL2dy3jMmojLNGxm3",
      "include_colab_link": true
    },
    "kernelspec": {
      "name": "python3",
      "display_name": "Python 3"
    },
    "language_info": {
      "name": "python"
    }
  },
  "cells": [
    {
      "cell_type": "markdown",
      "metadata": {
        "id": "view-in-github",
        "colab_type": "text"
      },
      "source": [
        "<a href=\"https://colab.research.google.com/github/KauaRoseiraa/Projeto-01/blob/main/projeto_2.ipynb\" target=\"_parent\"><img src=\"https://colab.research.google.com/assets/colab-badge.svg\" alt=\"Open In Colab\"/></a>"
      ]
    },
    {
      "cell_type": "code",
      "execution_count": null,
      "metadata": {
        "colab": {
          "base_uri": "https://localhost:8080/"
        },
        "id": "sMccpllydZHg",
        "outputId": "9ec14d05-4d45-4541-c481-268535ed1a95"
      },
      "outputs": [
        {
          "output_type": "stream",
          "name": "stdout",
          "text": [
            "=== Quiz Matemático Dinâmico ===\n",
            "Quanto é 20 - 17? 3\n",
            "Correto!\n"
          ]
        }
      ],
      "source": [
        "import random\n",
        "\n",
        "# Função para gerar uma pergunta aleatória\n",
        "def gerar_pergunta():\n",
        "    operadores = [\"+\", \"-\", \"*\", \"/\"]\n",
        "    op = random.choice(operadores)\n",
        "    a = random.randint(1, 20)\n",
        "    b = random.randint(1, 20)\n",
        "\n",
        "    # Evitar divisão por zero\n",
        "    if op == \"/\":\n",
        "        b = random.randint(1, 20)\n",
        "        resposta_certa = round(a / b, 2)\n",
        "        pergunta = f\"Quanto é {a} {op} {b}? (responda com 2 casas decimais)\"\n",
        "    elif op == \"+\":\n",
        "        resposta_certa = a + b\n",
        "        pergunta = f\"Quanto é {a} {op} {b}?\"\n",
        "    elif op == \"-\":\n",
        "        resposta_certa = a - b\n",
        "        pergunta = f\"Quanto é {a} {op} {b}?\"\n",
        "    else:  # multiplicação\n",
        "        resposta_certa = a * b\n",
        "        pergunta = f\"Quanto é {a} {op} {b}?\"\n",
        "\n",
        "    return pergunta, resposta_certa\n",
        "\n",
        "# Função para fazer a pergunta\n",
        "def fazer_pergunta(pergunta, resposta_certa):\n",
        "    resposta = input(pergunta + \" \")\n",
        "    try:\n",
        "        # comparar números (float para divisão)\n",
        "        if float(resposta) == float(resposta_certa):\n",
        "            print(\"Correto!\")\n",
        "            return 1\n",
        "        else:\n",
        "            print(f\"Errado! A resposta certa é {resposta_certa}.\")\n",
        "            return 0\n",
        "    except:\n",
        "        print(f\"Resposta inválida! A resposta certa é {resposta_certa}.\")\n",
        "        return 0\n",
        "\n",
        "# Programa principal\n",
        "print(\"=== Quiz Matemático Dinâmico ===\")\n",
        "pontuacao = 0\n",
        "num_perguntas = 5  # quantas perguntas por rodada\n",
        "\n",
        "for _ in range(num_perguntas):\n",
        "    pergunta, resposta_certa = gerar_pergunta()\n",
        "    pontuacao += fazer_pergunta(pergunta, resposta_certa)\n",
        "\n",
        "print(f\"\\nQuiz finalizado! Você acertou {pontuacao} de {num_perguntas} perguntas.\")\n"
      ]
    }
  ]
}